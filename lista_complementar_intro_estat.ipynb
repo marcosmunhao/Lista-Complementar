{
 "cells": [
  {
   "cell_type": "markdown",
   "id": "083202ea-599d-4c49-8fdd-e253b036b7eb",
   "metadata": {},
   "source": [
    "# Introdução à Estatística"
   ]
  },
  {
   "cell_type": "code",
   "execution_count": 1,
   "id": "aa6e9cd8-883a-41ae-91e5-18c01158aa97",
   "metadata": {
    "is_executing": true
   },
   "outputs": [],
   "source": [
    "import pandas as pd\n",
    "import numpy as np\n",
    "import matplotlib.pyplot as plt\n",
    "import seaborn as sns\n",
    "from scipy.stats import binom\n",
    "from scipy.stats import nbinom\n",
    "from scipy.stats import poisson\n",
    "from scipy.stats import chi2\n",
    "from scipy.stats import chisquare\n",
    "from scipy.stats import f\n",
    "from scipy.stats import t"
   ]
  },
  {
   "cell_type": "markdown",
   "id": "b34609c1-7235-4397-bf30-f9f1557193d6",
   "metadata": {},
   "source": [
    "## Lista de Exercícios Complementares"
   ]
  },
  {
   "cell_type": "markdown",
   "id": "14db151d-cfad-4b2a-8014-b738e8e2eaca",
   "metadata": {},
   "source": [
    "####    1.  Na análise de concessão de empréstimos, uma variável potencialmente importante é a renda da pessoa. O gerente de um banco coleta uma base de dados de seus correntistas e extrai a variável “renda mensal (R$)” para 50 pessoas. Embora se trate de uma variável quantitativa, deseja realizar uma análise por meio de tabela de frequências. Neste sentido, pede-se:"
   ]
  },
  {
   "cell_type": "code",
   "execution_count": 2,
   "id": "ed954abc-cd0d-4d50-9b7a-6ed5059da8c4",
   "metadata": {
    "is_executing": true
   },
   "outputs": [
    {
     "data": {
      "text/html": [
       "<div>\n",
       "<style scoped>\n",
       "    .dataframe tbody tr th:only-of-type {\n",
       "        vertical-align: middle;\n",
       "    }\n",
       "\n",
       "    .dataframe tbody tr th {\n",
       "        vertical-align: top;\n",
       "    }\n",
       "\n",
       "    .dataframe thead th {\n",
       "        text-align: right;\n",
       "    }\n",
       "</style>\n",
       "<table border=\"1\" class=\"dataframe\">\n",
       "  <thead>\n",
       "    <tr style=\"text-align: right;\">\n",
       "      <th></th>\n",
       "      <th>Renda ($)</th>\n",
       "    </tr>\n",
       "  </thead>\n",
       "  <tbody>\n",
       "    <tr>\n",
       "      <th>0</th>\n",
       "      <td>2894</td>\n",
       "    </tr>\n",
       "    <tr>\n",
       "      <th>1</th>\n",
       "      <td>3448</td>\n",
       "    </tr>\n",
       "    <tr>\n",
       "      <th>2</th>\n",
       "      <td>1461</td>\n",
       "    </tr>\n",
       "    <tr>\n",
       "      <th>3</th>\n",
       "      <td>2224</td>\n",
       "    </tr>\n",
       "    <tr>\n",
       "      <th>4</th>\n",
       "      <td>2501</td>\n",
       "    </tr>\n",
       "    <tr>\n",
       "      <th>5</th>\n",
       "      <td>1100</td>\n",
       "    </tr>\n",
       "    <tr>\n",
       "      <th>6</th>\n",
       "      <td>3560</td>\n",
       "    </tr>\n",
       "    <tr>\n",
       "      <th>7</th>\n",
       "      <td>5511</td>\n",
       "    </tr>\n",
       "    <tr>\n",
       "      <th>8</th>\n",
       "      <td>2901</td>\n",
       "    </tr>\n",
       "    <tr>\n",
       "      <th>9</th>\n",
       "      <td>10128</td>\n",
       "    </tr>\n",
       "    <tr>\n",
       "      <th>10</th>\n",
       "      <td>1855</td>\n",
       "    </tr>\n",
       "    <tr>\n",
       "      <th>11</th>\n",
       "      <td>3161</td>\n",
       "    </tr>\n",
       "    <tr>\n",
       "      <th>12</th>\n",
       "      <td>8630</td>\n",
       "    </tr>\n",
       "    <tr>\n",
       "      <th>13</th>\n",
       "      <td>6201</td>\n",
       "    </tr>\n",
       "    <tr>\n",
       "      <th>14</th>\n",
       "      <td>4130</td>\n",
       "    </tr>\n",
       "    <tr>\n",
       "      <th>15</th>\n",
       "      <td>2736</td>\n",
       "    </tr>\n",
       "    <tr>\n",
       "      <th>16</th>\n",
       "      <td>4448</td>\n",
       "    </tr>\n",
       "    <tr>\n",
       "      <th>17</th>\n",
       "      <td>2150</td>\n",
       "    </tr>\n",
       "    <tr>\n",
       "      <th>18</th>\n",
       "      <td>4595</td>\n",
       "    </tr>\n",
       "    <tr>\n",
       "      <th>19</th>\n",
       "      <td>5561</td>\n",
       "    </tr>\n",
       "    <tr>\n",
       "      <th>20</th>\n",
       "      <td>2800</td>\n",
       "    </tr>\n",
       "    <tr>\n",
       "      <th>21</th>\n",
       "      <td>9538</td>\n",
       "    </tr>\n",
       "    <tr>\n",
       "      <th>22</th>\n",
       "      <td>2000</td>\n",
       "    </tr>\n",
       "    <tr>\n",
       "      <th>23</th>\n",
       "      <td>3226</td>\n",
       "    </tr>\n",
       "    <tr>\n",
       "      <th>24</th>\n",
       "      <td>1900</td>\n",
       "    </tr>\n",
       "    <tr>\n",
       "      <th>25</th>\n",
       "      <td>7665</td>\n",
       "    </tr>\n",
       "    <tr>\n",
       "      <th>26</th>\n",
       "      <td>3890</td>\n",
       "    </tr>\n",
       "    <tr>\n",
       "      <th>27</th>\n",
       "      <td>6590</td>\n",
       "    </tr>\n",
       "    <tr>\n",
       "      <th>28</th>\n",
       "      <td>1241</td>\n",
       "    </tr>\n",
       "    <tr>\n",
       "      <th>29</th>\n",
       "      <td>1720</td>\n",
       "    </tr>\n",
       "    <tr>\n",
       "      <th>30</th>\n",
       "      <td>2556</td>\n",
       "    </tr>\n",
       "    <tr>\n",
       "      <th>31</th>\n",
       "      <td>4730</td>\n",
       "    </tr>\n",
       "    <tr>\n",
       "      <th>32</th>\n",
       "      <td>4745</td>\n",
       "    </tr>\n",
       "    <tr>\n",
       "      <th>33</th>\n",
       "      <td>8550</td>\n",
       "    </tr>\n",
       "    <tr>\n",
       "      <th>34</th>\n",
       "      <td>3860</td>\n",
       "    </tr>\n",
       "    <tr>\n",
       "      <th>35</th>\n",
       "      <td>11320</td>\n",
       "    </tr>\n",
       "    <tr>\n",
       "      <th>36</th>\n",
       "      <td>6125</td>\n",
       "    </tr>\n",
       "    <tr>\n",
       "      <th>37</th>\n",
       "      <td>5606</td>\n",
       "    </tr>\n",
       "    <tr>\n",
       "      <th>38</th>\n",
       "      <td>3250</td>\n",
       "    </tr>\n",
       "    <tr>\n",
       "      <th>39</th>\n",
       "      <td>1500</td>\n",
       "    </tr>\n",
       "    <tr>\n",
       "      <th>40</th>\n",
       "      <td>9216</td>\n",
       "    </tr>\n",
       "    <tr>\n",
       "      <th>41</th>\n",
       "      <td>4999</td>\n",
       "    </tr>\n",
       "    <tr>\n",
       "      <th>42</th>\n",
       "      <td>3900</td>\n",
       "    </tr>\n",
       "    <tr>\n",
       "      <th>43</th>\n",
       "      <td>7000</td>\n",
       "    </tr>\n",
       "    <tr>\n",
       "      <th>44</th>\n",
       "      <td>3508</td>\n",
       "    </tr>\n",
       "    <tr>\n",
       "      <th>45</th>\n",
       "      <td>1130</td>\n",
       "    </tr>\n",
       "    <tr>\n",
       "      <th>46</th>\n",
       "      <td>4121</td>\n",
       "    </tr>\n",
       "    <tr>\n",
       "      <th>47</th>\n",
       "      <td>2601</td>\n",
       "    </tr>\n",
       "    <tr>\n",
       "      <th>48</th>\n",
       "      <td>2901</td>\n",
       "    </tr>\n",
       "    <tr>\n",
       "      <th>49</th>\n",
       "      <td>4871</td>\n",
       "    </tr>\n",
       "  </tbody>\n",
       "</table>\n",
       "</div>"
      ],
      "text/plain": [
       "    Renda ($)\n",
       "0        2894\n",
       "1        3448\n",
       "2        1461\n",
       "3        2224\n",
       "4        2501\n",
       "5        1100\n",
       "6        3560\n",
       "7        5511\n",
       "8        2901\n",
       "9       10128\n",
       "10       1855\n",
       "11       3161\n",
       "12       8630\n",
       "13       6201\n",
       "14       4130\n",
       "15       2736\n",
       "16       4448\n",
       "17       2150\n",
       "18       4595\n",
       "19       5561\n",
       "20       2800\n",
       "21       9538\n",
       "22       2000\n",
       "23       3226\n",
       "24       1900\n",
       "25       7665\n",
       "26       3890\n",
       "27       6590\n",
       "28       1241\n",
       "29       1720\n",
       "30       2556\n",
       "31       4730\n",
       "32       4745\n",
       "33       8550\n",
       "34       3860\n",
       "35      11320\n",
       "36       6125\n",
       "37       5606\n",
       "38       3250\n",
       "39       1500\n",
       "40       9216\n",
       "41       4999\n",
       "42       3900\n",
       "43       7000\n",
       "44       3508\n",
       "45       1130\n",
       "46       4121\n",
       "47       2601\n",
       "48       2901\n",
       "49       4871"
      ]
     },
     "execution_count": 2,
     "metadata": {},
     "output_type": "execute_result"
    }
   ],
   "source": [
    "# importando os dados de um arquivo csv\n",
    "renda_mensal = pd.read_csv('renda_mensal.csv')\n",
    "renda_mensal"
   ]
  },
  {
   "cell_type": "markdown",
   "id": "917d1add-f9ed-4230-b88e-faafae580893",
   "metadata": {},
   "source": [
    "#####    a. Classifique os correntistas em faixas de renda, sendo: 0-2.000; 2.001-4.000; 4.001-6.000; 6.001-8.000; 8.001-10.000 e 10.001-12.000."
   ]
  },
  {
   "cell_type": "code",
   "execution_count": 3,
   "id": "3a7c5bbf-3708-4ec2-b44c-377af7d235c1",
   "metadata": {
    "is_executing": true
   },
   "outputs": [],
   "source": [
    "# criando os intervalos de renda e criando um dicionário que irá mapear o dataframe (não é necessário o mapeamento dessa forma)\n",
    "intervals = {range(0,2001):'0-2000',range(2001,4001):'2001-4000',range(4001,6001):'4001-6000',range(6001,8001):'6001-8000',range(8001,10001):'8001-10000',range(10001,12001):'10001-12000'} # o range() não inclui o últimom, portanto na renda = 2000 não classificava\n",
    "order = {'0-2000':1,'2001-4000':2,'4001-6000':3,'6001-8000':4,'8001-10000':5,'10001-12000':6}"
   ]
  },
  {
   "cell_type": "code",
   "execution_count": 4,
   "id": "744f8a83-73d5-4572-9e6c-53eb444a658c",
   "metadata": {
    "editable": true,
    "is_executing": true,
    "slideshow": {
     "slide_type": ""
    },
    "tags": []
   },
   "outputs": [
    {
     "data": {
      "text/html": [
       "<div>\n",
       "<style scoped>\n",
       "    .dataframe tbody tr th:only-of-type {\n",
       "        vertical-align: middle;\n",
       "    }\n",
       "\n",
       "    .dataframe tbody tr th {\n",
       "        vertical-align: top;\n",
       "    }\n",
       "\n",
       "    .dataframe thead th {\n",
       "        text-align: right;\n",
       "    }\n",
       "</style>\n",
       "<table border=\"1\" class=\"dataframe\">\n",
       "  <thead>\n",
       "    <tr style=\"text-align: right;\">\n",
       "      <th></th>\n",
       "      <th>Renda ($)</th>\n",
       "      <th>faixa_salarial</th>\n",
       "      <th>faixa_2</th>\n",
       "    </tr>\n",
       "  </thead>\n",
       "  <tbody>\n",
       "    <tr>\n",
       "      <th>5</th>\n",
       "      <td>1100</td>\n",
       "      <td>0-2000</td>\n",
       "      <td>1</td>\n",
       "    </tr>\n",
       "    <tr>\n",
       "      <th>45</th>\n",
       "      <td>1130</td>\n",
       "      <td>0-2000</td>\n",
       "      <td>1</td>\n",
       "    </tr>\n",
       "    <tr>\n",
       "      <th>28</th>\n",
       "      <td>1241</td>\n",
       "      <td>0-2000</td>\n",
       "      <td>1</td>\n",
       "    </tr>\n",
       "    <tr>\n",
       "      <th>2</th>\n",
       "      <td>1461</td>\n",
       "      <td>0-2000</td>\n",
       "      <td>1</td>\n",
       "    </tr>\n",
       "    <tr>\n",
       "      <th>39</th>\n",
       "      <td>1500</td>\n",
       "      <td>0-2000</td>\n",
       "      <td>1</td>\n",
       "    </tr>\n",
       "    <tr>\n",
       "      <th>29</th>\n",
       "      <td>1720</td>\n",
       "      <td>0-2000</td>\n",
       "      <td>1</td>\n",
       "    </tr>\n",
       "    <tr>\n",
       "      <th>10</th>\n",
       "      <td>1855</td>\n",
       "      <td>0-2000</td>\n",
       "      <td>1</td>\n",
       "    </tr>\n",
       "    <tr>\n",
       "      <th>24</th>\n",
       "      <td>1900</td>\n",
       "      <td>0-2000</td>\n",
       "      <td>1</td>\n",
       "    </tr>\n",
       "    <tr>\n",
       "      <th>22</th>\n",
       "      <td>2000</td>\n",
       "      <td>0-2000</td>\n",
       "      <td>1</td>\n",
       "    </tr>\n",
       "    <tr>\n",
       "      <th>17</th>\n",
       "      <td>2150</td>\n",
       "      <td>2001-4000</td>\n",
       "      <td>2</td>\n",
       "    </tr>\n",
       "    <tr>\n",
       "      <th>3</th>\n",
       "      <td>2224</td>\n",
       "      <td>2001-4000</td>\n",
       "      <td>2</td>\n",
       "    </tr>\n",
       "    <tr>\n",
       "      <th>4</th>\n",
       "      <td>2501</td>\n",
       "      <td>2001-4000</td>\n",
       "      <td>2</td>\n",
       "    </tr>\n",
       "    <tr>\n",
       "      <th>30</th>\n",
       "      <td>2556</td>\n",
       "      <td>2001-4000</td>\n",
       "      <td>2</td>\n",
       "    </tr>\n",
       "    <tr>\n",
       "      <th>47</th>\n",
       "      <td>2601</td>\n",
       "      <td>2001-4000</td>\n",
       "      <td>2</td>\n",
       "    </tr>\n",
       "    <tr>\n",
       "      <th>15</th>\n",
       "      <td>2736</td>\n",
       "      <td>2001-4000</td>\n",
       "      <td>2</td>\n",
       "    </tr>\n",
       "    <tr>\n",
       "      <th>20</th>\n",
       "      <td>2800</td>\n",
       "      <td>2001-4000</td>\n",
       "      <td>2</td>\n",
       "    </tr>\n",
       "    <tr>\n",
       "      <th>0</th>\n",
       "      <td>2894</td>\n",
       "      <td>2001-4000</td>\n",
       "      <td>2</td>\n",
       "    </tr>\n",
       "    <tr>\n",
       "      <th>8</th>\n",
       "      <td>2901</td>\n",
       "      <td>2001-4000</td>\n",
       "      <td>2</td>\n",
       "    </tr>\n",
       "    <tr>\n",
       "      <th>48</th>\n",
       "      <td>2901</td>\n",
       "      <td>2001-4000</td>\n",
       "      <td>2</td>\n",
       "    </tr>\n",
       "    <tr>\n",
       "      <th>11</th>\n",
       "      <td>3161</td>\n",
       "      <td>2001-4000</td>\n",
       "      <td>2</td>\n",
       "    </tr>\n",
       "    <tr>\n",
       "      <th>23</th>\n",
       "      <td>3226</td>\n",
       "      <td>2001-4000</td>\n",
       "      <td>2</td>\n",
       "    </tr>\n",
       "    <tr>\n",
       "      <th>38</th>\n",
       "      <td>3250</td>\n",
       "      <td>2001-4000</td>\n",
       "      <td>2</td>\n",
       "    </tr>\n",
       "    <tr>\n",
       "      <th>1</th>\n",
       "      <td>3448</td>\n",
       "      <td>2001-4000</td>\n",
       "      <td>2</td>\n",
       "    </tr>\n",
       "    <tr>\n",
       "      <th>44</th>\n",
       "      <td>3508</td>\n",
       "      <td>2001-4000</td>\n",
       "      <td>2</td>\n",
       "    </tr>\n",
       "    <tr>\n",
       "      <th>6</th>\n",
       "      <td>3560</td>\n",
       "      <td>2001-4000</td>\n",
       "      <td>2</td>\n",
       "    </tr>\n",
       "    <tr>\n",
       "      <th>34</th>\n",
       "      <td>3860</td>\n",
       "      <td>2001-4000</td>\n",
       "      <td>2</td>\n",
       "    </tr>\n",
       "    <tr>\n",
       "      <th>26</th>\n",
       "      <td>3890</td>\n",
       "      <td>2001-4000</td>\n",
       "      <td>2</td>\n",
       "    </tr>\n",
       "    <tr>\n",
       "      <th>42</th>\n",
       "      <td>3900</td>\n",
       "      <td>2001-4000</td>\n",
       "      <td>2</td>\n",
       "    </tr>\n",
       "    <tr>\n",
       "      <th>46</th>\n",
       "      <td>4121</td>\n",
       "      <td>4001-6000</td>\n",
       "      <td>3</td>\n",
       "    </tr>\n",
       "    <tr>\n",
       "      <th>14</th>\n",
       "      <td>4130</td>\n",
       "      <td>4001-6000</td>\n",
       "      <td>3</td>\n",
       "    </tr>\n",
       "    <tr>\n",
       "      <th>16</th>\n",
       "      <td>4448</td>\n",
       "      <td>4001-6000</td>\n",
       "      <td>3</td>\n",
       "    </tr>\n",
       "    <tr>\n",
       "      <th>18</th>\n",
       "      <td>4595</td>\n",
       "      <td>4001-6000</td>\n",
       "      <td>3</td>\n",
       "    </tr>\n",
       "    <tr>\n",
       "      <th>31</th>\n",
       "      <td>4730</td>\n",
       "      <td>4001-6000</td>\n",
       "      <td>3</td>\n",
       "    </tr>\n",
       "    <tr>\n",
       "      <th>32</th>\n",
       "      <td>4745</td>\n",
       "      <td>4001-6000</td>\n",
       "      <td>3</td>\n",
       "    </tr>\n",
       "    <tr>\n",
       "      <th>49</th>\n",
       "      <td>4871</td>\n",
       "      <td>4001-6000</td>\n",
       "      <td>3</td>\n",
       "    </tr>\n",
       "    <tr>\n",
       "      <th>41</th>\n",
       "      <td>4999</td>\n",
       "      <td>4001-6000</td>\n",
       "      <td>3</td>\n",
       "    </tr>\n",
       "    <tr>\n",
       "      <th>7</th>\n",
       "      <td>5511</td>\n",
       "      <td>4001-6000</td>\n",
       "      <td>3</td>\n",
       "    </tr>\n",
       "    <tr>\n",
       "      <th>19</th>\n",
       "      <td>5561</td>\n",
       "      <td>4001-6000</td>\n",
       "      <td>3</td>\n",
       "    </tr>\n",
       "    <tr>\n",
       "      <th>37</th>\n",
       "      <td>5606</td>\n",
       "      <td>4001-6000</td>\n",
       "      <td>3</td>\n",
       "    </tr>\n",
       "    <tr>\n",
       "      <th>36</th>\n",
       "      <td>6125</td>\n",
       "      <td>6001-8000</td>\n",
       "      <td>4</td>\n",
       "    </tr>\n",
       "    <tr>\n",
       "      <th>13</th>\n",
       "      <td>6201</td>\n",
       "      <td>6001-8000</td>\n",
       "      <td>4</td>\n",
       "    </tr>\n",
       "    <tr>\n",
       "      <th>27</th>\n",
       "      <td>6590</td>\n",
       "      <td>6001-8000</td>\n",
       "      <td>4</td>\n",
       "    </tr>\n",
       "    <tr>\n",
       "      <th>43</th>\n",
       "      <td>7000</td>\n",
       "      <td>6001-8000</td>\n",
       "      <td>4</td>\n",
       "    </tr>\n",
       "    <tr>\n",
       "      <th>25</th>\n",
       "      <td>7665</td>\n",
       "      <td>6001-8000</td>\n",
       "      <td>4</td>\n",
       "    </tr>\n",
       "    <tr>\n",
       "      <th>33</th>\n",
       "      <td>8550</td>\n",
       "      <td>8001-10000</td>\n",
       "      <td>5</td>\n",
       "    </tr>\n",
       "    <tr>\n",
       "      <th>12</th>\n",
       "      <td>8630</td>\n",
       "      <td>8001-10000</td>\n",
       "      <td>5</td>\n",
       "    </tr>\n",
       "    <tr>\n",
       "      <th>40</th>\n",
       "      <td>9216</td>\n",
       "      <td>8001-10000</td>\n",
       "      <td>5</td>\n",
       "    </tr>\n",
       "    <tr>\n",
       "      <th>21</th>\n",
       "      <td>9538</td>\n",
       "      <td>8001-10000</td>\n",
       "      <td>5</td>\n",
       "    </tr>\n",
       "    <tr>\n",
       "      <th>9</th>\n",
       "      <td>10128</td>\n",
       "      <td>10001-12000</td>\n",
       "      <td>6</td>\n",
       "    </tr>\n",
       "    <tr>\n",
       "      <th>35</th>\n",
       "      <td>11320</td>\n",
       "      <td>10001-12000</td>\n",
       "      <td>6</td>\n",
       "    </tr>\n",
       "  </tbody>\n",
       "</table>\n",
       "</div>"
      ],
      "text/plain": [
       "    Renda ($) faixa_salarial  faixa_2\n",
       "5        1100         0-2000        1\n",
       "45       1130         0-2000        1\n",
       "28       1241         0-2000        1\n",
       "2        1461         0-2000        1\n",
       "39       1500         0-2000        1\n",
       "29       1720         0-2000        1\n",
       "10       1855         0-2000        1\n",
       "24       1900         0-2000        1\n",
       "22       2000         0-2000        1\n",
       "17       2150      2001-4000        2\n",
       "3        2224      2001-4000        2\n",
       "4        2501      2001-4000        2\n",
       "30       2556      2001-4000        2\n",
       "47       2601      2001-4000        2\n",
       "15       2736      2001-4000        2\n",
       "20       2800      2001-4000        2\n",
       "0        2894      2001-4000        2\n",
       "8        2901      2001-4000        2\n",
       "48       2901      2001-4000        2\n",
       "11       3161      2001-4000        2\n",
       "23       3226      2001-4000        2\n",
       "38       3250      2001-4000        2\n",
       "1        3448      2001-4000        2\n",
       "44       3508      2001-4000        2\n",
       "6        3560      2001-4000        2\n",
       "34       3860      2001-4000        2\n",
       "26       3890      2001-4000        2\n",
       "42       3900      2001-4000        2\n",
       "46       4121      4001-6000        3\n",
       "14       4130      4001-6000        3\n",
       "16       4448      4001-6000        3\n",
       "18       4595      4001-6000        3\n",
       "31       4730      4001-6000        3\n",
       "32       4745      4001-6000        3\n",
       "49       4871      4001-6000        3\n",
       "41       4999      4001-6000        3\n",
       "7        5511      4001-6000        3\n",
       "19       5561      4001-6000        3\n",
       "37       5606      4001-6000        3\n",
       "36       6125      6001-8000        4\n",
       "13       6201      6001-8000        4\n",
       "27       6590      6001-8000        4\n",
       "43       7000      6001-8000        4\n",
       "25       7665      6001-8000        4\n",
       "33       8550     8001-10000        5\n",
       "12       8630     8001-10000        5\n",
       "40       9216     8001-10000        5\n",
       "21       9538     8001-10000        5\n",
       "9       10128    10001-12000        6\n",
       "35      11320    10001-12000        6"
      ]
     },
     "execution_count": 4,
     "metadata": {},
     "output_type": "execute_result"
    }
   ],
   "source": [
    "renda_mensal['faixa_salarial'] = renda_mensal['Renda ($)'].apply(lambda x: next((v for k, v in intervals.items() if x in k),0))\n",
    "renda_mensal['faixa_2'] = renda_mensal['faixa_salarial'].map(order)\n",
    "renda_mensal.sort_values(by='Renda ($)',inplace=True)\n",
    "renda_mensal"
   ]
  },
  {
   "cell_type": "markdown",
   "id": "20a0d260-e287-4d60-b65c-6bdc95b0a820",
   "metadata": {},
   "source": [
    "#####    b. Em seguida, elabore a tabela de frequências para as faixas de renda acima."
   ]
  },
  {
   "cell_type": "code",
   "execution_count": 5,
   "id": "cc420369-8c13-4696-b6d2-aaba10b5cfbb",
   "metadata": {
    "is_executing": true
   },
   "outputs": [
    {
     "data": {
      "text/html": [
       "<div>\n",
       "<style scoped>\n",
       "    .dataframe tbody tr th:only-of-type {\n",
       "        vertical-align: middle;\n",
       "    }\n",
       "\n",
       "    .dataframe tbody tr th {\n",
       "        vertical-align: top;\n",
       "    }\n",
       "\n",
       "    .dataframe thead th {\n",
       "        text-align: right;\n",
       "    }\n",
       "</style>\n",
       "<table border=\"1\" class=\"dataframe\">\n",
       "  <thead>\n",
       "    <tr style=\"text-align: right;\">\n",
       "      <th></th>\n",
       "      <th>faixa_salarial</th>\n",
       "      <th>Quantidade</th>\n",
       "    </tr>\n",
       "  </thead>\n",
       "  <tbody>\n",
       "    <tr>\n",
       "      <th>0</th>\n",
       "      <td>0-2000</td>\n",
       "      <td>9</td>\n",
       "    </tr>\n",
       "    <tr>\n",
       "      <th>1</th>\n",
       "      <td>2001-4000</td>\n",
       "      <td>19</td>\n",
       "    </tr>\n",
       "    <tr>\n",
       "      <th>2</th>\n",
       "      <td>4001-6000</td>\n",
       "      <td>11</td>\n",
       "    </tr>\n",
       "    <tr>\n",
       "      <th>3</th>\n",
       "      <td>6001-8000</td>\n",
       "      <td>5</td>\n",
       "    </tr>\n",
       "    <tr>\n",
       "      <th>4</th>\n",
       "      <td>8001-10000</td>\n",
       "      <td>4</td>\n",
       "    </tr>\n",
       "    <tr>\n",
       "      <th>5</th>\n",
       "      <td>10001-12000</td>\n",
       "      <td>2</td>\n",
       "    </tr>\n",
       "  </tbody>\n",
       "</table>\n",
       "</div>"
      ],
      "text/plain": [
       "  faixa_salarial  Quantidade\n",
       "0         0-2000           9\n",
       "1      2001-4000          19\n",
       "2      4001-6000          11\n",
       "3      6001-8000           5\n",
       "4     8001-10000           4\n",
       "5    10001-12000           2"
      ]
     },
     "execution_count": 5,
     "metadata": {},
     "output_type": "execute_result"
    }
   ],
   "source": [
    "faixa_salarial = renda_mensal.faixa_salarial.value_counts(sort=False).to_frame(name='Quantidade')\n",
    "faixa_salarial.reset_index(inplace=True)\n",
    "faixa_salarial"
   ]
  },
  {
   "cell_type": "markdown",
   "id": "6431a382-ee7f-4540-be89-561dd19a36f4",
   "metadata": {},
   "source": [
    "Uma outra forma de mostrar, meio automatizado (Tem uma pequena diferença e isso faz o resultado estar errado)"
   ]
  },
  {
   "cell_type": "code",
   "execution_count": 6,
   "id": "bed282a4-d929-4c44-970e-2b1159d6539c",
   "metadata": {
    "is_executing": true
   },
   "outputs": [
    {
     "data": {
      "image/png": "[encoded data removed]",
      "text/plain": [
       "<Figure size 2000x1000 with 1 Axes>"
      ]
     },
     "metadata": {},
     "output_type": "display_data"
    }
   ],
   "source": [
    "sns.set_style('white')\n",
    "sns.set_palette('deep')\n",
    "ax = sns.histplot(data=renda_mensal['Renda ($)'], color='grey', stat='count',bins=6,binrange=(0,12000),shrink=0.95, legend=False,kde=False)\n",
    "ax.figure.set_size_inches(20,10)\n",
    "ax.spines[:].set_visible(False)\n",
    "ax.set_title('Faixa de Renda ($)',fontsize=26,weight='bold')\n",
    "ax.set_yticks([0,2,4,6,8,10,12,14,16,18,20],labels='')\n",
    "ax.set_xticks([1000,3000,5000,7000,9000,11000],labels=['0-2000','2001-4000','4001-6000','6001-8000','8001-10000','10001-12000'],fontsize=14)\n",
    "ax.set_xlabel(None)\n",
    "ax.set_ylabel(None)\n",
    "for p in ax.patches:\n",
    "    height = p.get_height()\n",
    "    ax.text(p.get_x()+p.get_width()/2., height - 1,height ,ha=\"center\",fontsize=30,weight='bold',color='white')\n",
    "plt.show()\n",
    "\n"
   ]
  },
  {
   "cell_type": "markdown",
   "id": "ed3ca1e5-d09c-40ef-86d3-d9db38efc020",
   "metadata": {},
   "source": [
    "#### 2. Um analista do mercado acionário coletou os retornos mensais de duas ações que pretende indicar aos seus clientes. Calcule as estatísticas descritivas para as duas variáveis, incluindo o coeficiente de correlação entre os retornos."
   ]
  },
  {
   "cell_type": "code",
   "execution_count": 7,
   "id": "2f43f6a8-604c-481f-a22a-3a411cb09838",
   "metadata": {
    "is_executing": true
   },
   "outputs": [
    {
     "data": {
      "text/html": [
       "<div>\n",
       "<style scoped>\n",
       "    .dataframe tbody tr th:only-of-type {\n",
       "        vertical-align: middle;\n",
       "    }\n",
       "\n",
       "    .dataframe tbody tr th {\n",
       "        vertical-align: top;\n",
       "    }\n",
       "\n",
       "    .dataframe thead th {\n",
       "        text-align: right;\n",
       "    }\n",
       "</style>\n",
       "<table border=\"1\" class=\"dataframe\">\n",
       "  <thead>\n",
       "    <tr style=\"text-align: right;\">\n",
       "      <th></th>\n",
       "      <th>Meses</th>\n",
       "      <th>Ação 1</th>\n",
       "      <th>Ação 2</th>\n",
       "    </tr>\n",
       "  </thead>\n",
       "  <tbody>\n",
       "    <tr>\n",
       "      <th>0</th>\n",
       "      <td>1</td>\n",
       "      <td>-0.0212</td>\n",
       "      <td>0.2645</td>\n",
       "    </tr>\n",
       "    <tr>\n",
       "      <th>1</th>\n",
       "      <td>2</td>\n",
       "      <td>0.2438</td>\n",
       "      <td>0.2086</td>\n",
       "    </tr>\n",
       "    <tr>\n",
       "      <th>2</th>\n",
       "      <td>3</td>\n",
       "      <td>0.2296</td>\n",
       "      <td>0.1248</td>\n",
       "    </tr>\n",
       "    <tr>\n",
       "      <th>3</th>\n",
       "      <td>4</td>\n",
       "      <td>-0.2018</td>\n",
       "      <td>0.0209</td>\n",
       "    </tr>\n",
       "    <tr>\n",
       "      <th>4</th>\n",
       "      <td>5</td>\n",
       "      <td>0.1296</td>\n",
       "      <td>0.2055</td>\n",
       "    </tr>\n",
       "    <tr>\n",
       "      <th>5</th>\n",
       "      <td>6</td>\n",
       "      <td>0.0615</td>\n",
       "      <td>0.6260</td>\n",
       "    </tr>\n",
       "    <tr>\n",
       "      <th>6</th>\n",
       "      <td>7</td>\n",
       "      <td>-0.1591</td>\n",
       "      <td>-0.1490</td>\n",
       "    </tr>\n",
       "    <tr>\n",
       "      <th>7</th>\n",
       "      <td>8</td>\n",
       "      <td>-0.1001</td>\n",
       "      <td>0.2580</td>\n",
       "    </tr>\n",
       "    <tr>\n",
       "      <th>8</th>\n",
       "      <td>9</td>\n",
       "      <td>-0.0265</td>\n",
       "      <td>0.1722</td>\n",
       "    </tr>\n",
       "    <tr>\n",
       "      <th>9</th>\n",
       "      <td>10</td>\n",
       "      <td>0.0776</td>\n",
       "      <td>0.0199</td>\n",
       "    </tr>\n",
       "    <tr>\n",
       "      <th>10</th>\n",
       "      <td>11</td>\n",
       "      <td>0.0370</td>\n",
       "      <td>0.4331</td>\n",
       "    </tr>\n",
       "    <tr>\n",
       "      <th>11</th>\n",
       "      <td>12</td>\n",
       "      <td>0.1116</td>\n",
       "      <td>0.5482</td>\n",
       "    </tr>\n",
       "    <tr>\n",
       "      <th>12</th>\n",
       "      <td>13</td>\n",
       "      <td>-0.0667</td>\n",
       "      <td>0.0452</td>\n",
       "    </tr>\n",
       "    <tr>\n",
       "      <th>13</th>\n",
       "      <td>14</td>\n",
       "      <td>-0.0082</td>\n",
       "      <td>-0.1410</td>\n",
       "    </tr>\n",
       "    <tr>\n",
       "      <th>14</th>\n",
       "      <td>15</td>\n",
       "      <td>0.0119</td>\n",
       "      <td>-0.1059</td>\n",
       "    </tr>\n",
       "    <tr>\n",
       "      <th>15</th>\n",
       "      <td>16</td>\n",
       "      <td>0.1205</td>\n",
       "      <td>0.4074</td>\n",
       "    </tr>\n",
       "    <tr>\n",
       "      <th>16</th>\n",
       "      <td>17</td>\n",
       "      <td>0.0477</td>\n",
       "      <td>-0.0056</td>\n",
       "    </tr>\n",
       "    <tr>\n",
       "      <th>17</th>\n",
       "      <td>18</td>\n",
       "      <td>0.2814</td>\n",
       "      <td>0.1482</td>\n",
       "    </tr>\n",
       "    <tr>\n",
       "      <th>18</th>\n",
       "      <td>19</td>\n",
       "      <td>-0.0674</td>\n",
       "      <td>0.0753</td>\n",
       "    </tr>\n",
       "    <tr>\n",
       "      <th>19</th>\n",
       "      <td>20</td>\n",
       "      <td>0.0762</td>\n",
       "      <td>0.0899</td>\n",
       "    </tr>\n",
       "    <tr>\n",
       "      <th>20</th>\n",
       "      <td>21</td>\n",
       "      <td>-0.1111</td>\n",
       "      <td>0.0160</td>\n",
       "    </tr>\n",
       "    <tr>\n",
       "      <th>21</th>\n",
       "      <td>22</td>\n",
       "      <td>-0.0557</td>\n",
       "      <td>0.1805</td>\n",
       "    </tr>\n",
       "    <tr>\n",
       "      <th>22</th>\n",
       "      <td>23</td>\n",
       "      <td>0.1991</td>\n",
       "      <td>0.0334</td>\n",
       "    </tr>\n",
       "  </tbody>\n",
       "</table>\n",
       "</div>"
      ],
      "text/plain": [
       "    Meses  Ação 1  Ação 2\n",
       "0       1 -0.0212  0.2645\n",
       "1       2  0.2438  0.2086\n",
       "2       3  0.2296  0.1248\n",
       "3       4 -0.2018  0.0209\n",
       "4       5  0.1296  0.2055\n",
       "5       6  0.0615  0.6260\n",
       "6       7 -0.1591 -0.1490\n",
       "7       8 -0.1001  0.2580\n",
       "8       9 -0.0265  0.1722\n",
       "9      10  0.0776  0.0199\n",
       "10     11  0.0370  0.4331\n",
       "11     12  0.1116  0.5482\n",
       "12     13 -0.0667  0.0452\n",
       "13     14 -0.0082 -0.1410\n",
       "14     15  0.0119 -0.1059\n",
       "15     16  0.1205  0.4074\n",
       "16     17  0.0477 -0.0056\n",
       "17     18  0.2814  0.1482\n",
       "18     19 -0.0674  0.0753\n",
       "19     20  0.0762  0.0899\n",
       "20     21 -0.1111  0.0160\n",
       "21     22 -0.0557  0.1805\n",
       "22     23  0.1991  0.0334"
      ]
     },
     "execution_count": 7,
     "metadata": {},
     "output_type": "execute_result"
    }
   ],
   "source": [
    "acoes = pd.read_csv('açoes.csv')\n",
    "acoes"
   ]
  },
  {
   "cell_type": "markdown",
   "id": "d351203d-cbb1-45fa-b02f-beb1ba4a5051",
   "metadata": {
    "editable": true,
    "slideshow": {
     "slide_type": ""
    },
    "tags": []
   },
   "source": [
    "Média"
   ]
  },
  {
   "cell_type": "code",
   "execution_count": 8,
   "id": "f50fa97a-85c5-4db9-99ce-e0bdd2fff24a",
   "metadata": {
    "is_executing": true
   },
   "outputs": [
    {
     "data": {
      "text/plain": [
       "Ação 1    0.0352\n",
       "Ação 2    0.1511\n",
       "dtype: float64"
      ]
     },
     "execution_count": 8,
     "metadata": {},
     "output_type": "execute_result"
    }
   ],
   "source": [
    "acoes[['Ação 1','Ação 2']].mean().round(4)"
   ]
  },
  {
   "cell_type": "markdown",
   "id": "1e987c50-bc88-49ec-ab57-8d6700cdac1a",
   "metadata": {},
   "source": [
    "Mediana"
   ]
  },
  {
   "cell_type": "code",
   "execution_count": 9,
   "id": "f1db0328-6f12-4910-bec4-ed8db4538a6f",
   "metadata": {
    "is_executing": true
   },
   "outputs": [
    {
     "data": {
      "text/plain": [
       "Ação 1    0.0370\n",
       "Ação 2    0.1248\n",
       "dtype: float64"
      ]
     },
     "execution_count": 9,
     "metadata": {},
     "output_type": "execute_result"
    }
   ],
   "source": [
    "acoes[['Ação 1','Ação 2']].median().round(4)"
   ]
  },
  {
   "cell_type": "markdown",
   "id": "a16098c4-1941-4270-a5c4-3ee72505caba",
   "metadata": {},
   "source": [
    "Moda"
   ]
  },
  {
   "cell_type": "code",
   "execution_count": 10,
   "id": "4596f2bd-5153-4c00-8a85-126b6960db30",
   "metadata": {
    "is_executing": true,
    "scrolled": true
   },
   "outputs": [
    {
     "data": {
      "text/html": [
       "<div>\n",
       "<style scoped>\n",
       "    .dataframe tbody tr th:only-of-type {\n",
       "        vertical-align: middle;\n",
       "    }\n",
       "\n",
       "    .dataframe tbody tr th {\n",
       "        vertical-align: top;\n",
       "    }\n",
       "\n",
       "    .dataframe thead th {\n",
       "        text-align: right;\n",
       "    }\n",
       "</style>\n",
       "<table border=\"1\" class=\"dataframe\">\n",
       "  <thead>\n",
       "    <tr style=\"text-align: right;\">\n",
       "      <th></th>\n",
       "      <th>Ação 1</th>\n",
       "      <th>Ação 2</th>\n",
       "    </tr>\n",
       "  </thead>\n",
       "  <tbody>\n",
       "    <tr>\n",
       "      <th>0</th>\n",
       "      <td>-0.2018</td>\n",
       "      <td>-0.1490</td>\n",
       "    </tr>\n",
       "    <tr>\n",
       "      <th>1</th>\n",
       "      <td>-0.1591</td>\n",
       "      <td>-0.1410</td>\n",
       "    </tr>\n",
       "    <tr>\n",
       "      <th>2</th>\n",
       "      <td>-0.1111</td>\n",
       "      <td>-0.1059</td>\n",
       "    </tr>\n",
       "    <tr>\n",
       "      <th>3</th>\n",
       "      <td>-0.1001</td>\n",
       "      <td>-0.0056</td>\n",
       "    </tr>\n",
       "    <tr>\n",
       "      <th>4</th>\n",
       "      <td>-0.0674</td>\n",
       "      <td>0.0160</td>\n",
       "    </tr>\n",
       "    <tr>\n",
       "      <th>5</th>\n",
       "      <td>-0.0667</td>\n",
       "      <td>0.0199</td>\n",
       "    </tr>\n",
       "    <tr>\n",
       "      <th>6</th>\n",
       "      <td>-0.0557</td>\n",
       "      <td>0.0209</td>\n",
       "    </tr>\n",
       "    <tr>\n",
       "      <th>7</th>\n",
       "      <td>-0.0265</td>\n",
       "      <td>0.0334</td>\n",
       "    </tr>\n",
       "    <tr>\n",
       "      <th>8</th>\n",
       "      <td>-0.0212</td>\n",
       "      <td>0.0452</td>\n",
       "    </tr>\n",
       "    <tr>\n",
       "      <th>9</th>\n",
       "      <td>-0.0082</td>\n",
       "      <td>0.0753</td>\n",
       "    </tr>\n",
       "    <tr>\n",
       "      <th>10</th>\n",
       "      <td>0.0119</td>\n",
       "      <td>0.0899</td>\n",
       "    </tr>\n",
       "    <tr>\n",
       "      <th>11</th>\n",
       "      <td>0.0370</td>\n",
       "      <td>0.1248</td>\n",
       "    </tr>\n",
       "    <tr>\n",
       "      <th>12</th>\n",
       "      <td>0.0477</td>\n",
       "      <td>0.1482</td>\n",
       "    </tr>\n",
       "    <tr>\n",
       "      <th>13</th>\n",
       "      <td>0.0615</td>\n",
       "      <td>0.1722</td>\n",
       "    </tr>\n",
       "    <tr>\n",
       "      <th>14</th>\n",
       "      <td>0.0762</td>\n",
       "      <td>0.1805</td>\n",
       "    </tr>\n",
       "    <tr>\n",
       "      <th>15</th>\n",
       "      <td>0.0776</td>\n",
       "      <td>0.2055</td>\n",
       "    </tr>\n",
       "    <tr>\n",
       "      <th>16</th>\n",
       "      <td>0.1116</td>\n",
       "      <td>0.2086</td>\n",
       "    </tr>\n",
       "    <tr>\n",
       "      <th>17</th>\n",
       "      <td>0.1205</td>\n",
       "      <td>0.2580</td>\n",
       "    </tr>\n",
       "    <tr>\n",
       "      <th>18</th>\n",
       "      <td>0.1296</td>\n",
       "      <td>0.2645</td>\n",
       "    </tr>\n",
       "    <tr>\n",
       "      <th>19</th>\n",
       "      <td>0.1991</td>\n",
       "      <td>0.4074</td>\n",
       "    </tr>\n",
       "    <tr>\n",
       "      <th>20</th>\n",
       "      <td>0.2296</td>\n",
       "      <td>0.4331</td>\n",
       "    </tr>\n",
       "    <tr>\n",
       "      <th>21</th>\n",
       "      <td>0.2438</td>\n",
       "      <td>0.5482</td>\n",
       "    </tr>\n",
       "    <tr>\n",
       "      <th>22</th>\n",
       "      <td>0.2814</td>\n",
       "      <td>0.6260</td>\n",
       "    </tr>\n",
       "  </tbody>\n",
       "</table>\n",
       "</div>"
      ],
      "text/plain": [
       "    Ação 1  Ação 2\n",
       "0  -0.2018 -0.1490\n",
       "1  -0.1591 -0.1410\n",
       "2  -0.1111 -0.1059\n",
       "3  -0.1001 -0.0056\n",
       "4  -0.0674  0.0160\n",
       "5  -0.0667  0.0199\n",
       "6  -0.0557  0.0209\n",
       "7  -0.0265  0.0334\n",
       "8  -0.0212  0.0452\n",
       "9  -0.0082  0.0753\n",
       "10  0.0119  0.0899\n",
       "11  0.0370  0.1248\n",
       "12  0.0477  0.1482\n",
       "13  0.0615  0.1722\n",
       "14  0.0762  0.1805\n",
       "15  0.0776  0.2055\n",
       "16  0.1116  0.2086\n",
       "17  0.1205  0.2580\n",
       "18  0.1296  0.2645\n",
       "19  0.1991  0.4074\n",
       "20  0.2296  0.4331\n",
       "21  0.2438  0.5482\n",
       "22  0.2814  0.6260"
      ]
     },
     "execution_count": 10,
     "metadata": {},
     "output_type": "execute_result"
    }
   ],
   "source": [
    "acoes[['Ação 1','Ação 2']].mode() # Não tem"
   ]
  },
  {
   "cell_type": "markdown",
   "id": "97eafcb2-fcf8-403d-a181-a5347238356c",
   "metadata": {},
   "source": [
    "1 e 3 Quartis"
   ]
  },
  {
   "cell_type": "code",
   "execution_count": 11,
   "id": "d5344408-4383-4810-b5e1-20c921206f43",
   "metadata": {
    "is_executing": true
   },
   "outputs": [
    {
     "data": {
      "text/plain": [
       "Ação 1   -0.0612\n",
       "Ação 2    0.0204\n",
       "Name: 0.25, dtype: float64"
      ]
     },
     "execution_count": 11,
     "metadata": {},
     "output_type": "execute_result"
    }
   ],
   "source": [
    "acoes[['Ação 1','Ação 2']].quantile(q=0.25)"
   ]
  },
  {
   "cell_type": "code",
   "execution_count": 12,
   "id": "a7fcc9df-8a1d-45b9-abf2-7ce244bb9f0e",
   "metadata": {
    "is_executing": true
   },
   "outputs": [
    {
     "data": {
      "text/plain": [
       "Ação 1    0.11605\n",
       "Ação 2    0.23330\n",
       "Name: 0.75, dtype: float64"
      ]
     },
     "execution_count": 12,
     "metadata": {},
     "output_type": "execute_result"
    }
   ],
   "source": [
    "acoes[['Ação 1','Ação 2']].quantile(q=0.75)"
   ]
  },
  {
   "cell_type": "markdown",
   "id": "2b0eff29-0dc6-4a4f-98b1-1dea1da377e3",
   "metadata": {},
   "source": [
    "8 e 9 Decis"
   ]
  },
  {
   "cell_type": "code",
   "execution_count": 13,
   "id": "ed7ff388-7a3f-4a39-b552-fe681c46c9f9",
   "metadata": {
    "is_executing": true
   },
   "outputs": [
    {
     "data": {
      "text/plain": [
       "Ação 1    0.12596\n",
       "Ação 2    0.26190\n",
       "Name: 0.8, dtype: float64"
      ]
     },
     "execution_count": 13,
     "metadata": {},
     "output_type": "execute_result"
    }
   ],
   "source": [
    "acoes[['Ação 1','Ação 2']].quantile(q=0.8)"
   ]
  },
  {
   "cell_type": "code",
   "execution_count": 14,
   "id": "83f770c6-a4bb-4d1a-9ef3-4d8d8bd64801",
   "metadata": {
    "is_executing": true
   },
   "outputs": [
    {
     "data": {
      "text/plain": [
       "Ação 1    0.22350\n",
       "Ação 2    0.42796\n",
       "Name: 0.9, dtype: float64"
      ]
     },
     "execution_count": 14,
     "metadata": {},
     "output_type": "execute_result"
    }
   ],
   "source": [
    "acoes[['Ação 1','Ação 2']].quantile(q=0.9)"
   ]
  },
  {
   "cell_type": "markdown",
   "id": "1d70b481-a0ae-4859-b4f6-1b4f6c1e682b",
   "metadata": {},
   "source": [
    "27, 64 e 39 Percentis"
   ]
  },
  {
   "cell_type": "code",
   "execution_count": 15,
   "id": "ae3e27cb-0152-4dce-bc9b-f93aed52d564",
   "metadata": {
    "is_executing": true
   },
   "outputs": [
    {
     "data": {
      "text/plain": [
       "Ação 1   -0.05636\n",
       "Ação 2    0.02084\n",
       "Name: 0.27, dtype: float64"
      ]
     },
     "execution_count": 15,
     "metadata": {},
     "output_type": "execute_result"
    }
   ],
   "source": [
    "acoes[['Ação 1','Ação 2']].quantile(q=0.27)"
   ]
  },
  {
   "cell_type": "code",
   "execution_count": 16,
   "id": "c42df2d4-428d-4186-aaa9-b0935868723d",
   "metadata": {
    "is_executing": true
   },
   "outputs": [
    {
     "data": {
      "text/plain": [
       "Ação 1    0.076312\n",
       "Ação 2    0.182500\n",
       "Name: 0.64, dtype: float64"
      ]
     },
     "execution_count": 16,
     "metadata": {},
     "output_type": "execute_result"
    }
   ],
   "source": [
    "acoes[['Ação 1','Ação 2']].quantile(q=0.64)"
   ]
  },
  {
   "cell_type": "code",
   "execution_count": 17,
   "id": "2241b7ef-78ea-44c7-a0e4-fe9a16eb518b",
   "metadata": {
    "is_executing": true
   },
   "outputs": [
    {
     "data": {
      "text/plain": [
       "Ação 1   -0.013660\n",
       "Ação 2    0.062658\n",
       "Name: 0.39, dtype: float64"
      ]
     },
     "execution_count": 17,
     "metadata": {},
     "output_type": "execute_result"
    }
   ],
   "source": [
    "acoes[['Ação 1','Ação 2']].quantile(q=0.39)"
   ]
  },
  {
   "cell_type": "markdown",
   "id": "813a7f93-4aed-4d28-b27c-17ee14cdc915",
   "metadata": {},
   "source": [
    "Valor Máximo"
   ]
  },
  {
   "cell_type": "code",
   "execution_count": 18,
   "id": "9b1a43c4-e5b5-45ac-89e1-b76243f2c753",
   "metadata": {
    "is_executing": true
   },
   "outputs": [
    {
     "data": {
      "text/plain": [
       "Ação 1    0.2814\n",
       "Ação 2    0.6260\n",
       "dtype: float64"
      ]
     },
     "execution_count": 18,
     "metadata": {},
     "output_type": "execute_result"
    }
   ],
   "source": [
    "acoes[['Ação 1','Ação 2']].max()"
   ]
  },
  {
   "cell_type": "markdown",
   "id": "4e6b8a0d-f5d9-440e-8161-0357689ba722",
   "metadata": {},
   "source": [
    "Valor Mínimo"
   ]
  },
  {
   "cell_type": "code",
   "execution_count": 19,
   "id": "2978a86a-dc1f-461b-b170-818e21398dcd",
   "metadata": {
    "is_executing": true
   },
   "outputs": [
    {
     "data": {
      "text/plain": [
       "Ação 1   -0.2018\n",
       "Ação 2   -0.1490\n",
       "dtype: float64"
      ]
     },
     "execution_count": 19,
     "metadata": {},
     "output_type": "execute_result"
    }
   ],
   "source": [
    "acoes[['Ação 1','Ação 2']].min()"
   ]
  },
  {
   "cell_type": "markdown",
   "id": "7f4c6b19-830c-47ef-b9d6-69940ccac3ad",
   "metadata": {},
   "source": [
    "Amplitude"
   ]
  },
  {
   "cell_type": "code",
   "execution_count": 20,
   "id": "3fe7bcd4-220c-4f13-b909-12596be62ba8",
   "metadata": {
    "is_executing": true
   },
   "outputs": [
    {
     "data": {
      "text/plain": [
       "Ação 1    0.4832\n",
       "Ação 2    0.7750\n",
       "dtype: float64"
      ]
     },
     "execution_count": 20,
     "metadata": {},
     "output_type": "execute_result"
    }
   ],
   "source": [
    "acoes[['Ação 1','Ação 2']].max() - acoes[['Ação 1','Ação 2']].min()"
   ]
  },
  {
   "cell_type": "markdown",
   "id": "9d6ca3f9-5072-408e-84e4-a2006c762f1f",
   "metadata": {},
   "source": [
    "Variância"
   ]
  },
  {
   "cell_type": "code",
   "execution_count": 21,
   "id": "682f5100-b759-4b1f-9f99-d1fae0d41df6",
   "metadata": {
    "is_executing": true
   },
   "outputs": [
    {
     "data": {
      "text/plain": [
       "Ação 1    0.016698\n",
       "Ação 2    0.041544\n",
       "dtype: float64"
      ]
     },
     "execution_count": 21,
     "metadata": {},
     "output_type": "execute_result"
    }
   ],
   "source": [
    "acoes[['Ação 1','Ação 2']].var()"
   ]
  },
  {
   "cell_type": "markdown",
   "id": "f9906d2f-01c6-4e4a-8b1e-63c9055257da",
   "metadata": {},
   "source": [
    "Desvio Padrão"
   ]
  },
  {
   "cell_type": "code",
   "execution_count": 22,
   "id": "fec90ced-9ec0-4fa9-9fdb-61472e650baa",
   "metadata": {
    "is_executing": true
   },
   "outputs": [
    {
     "data": {
      "text/plain": [
       "Ação 1    0.129221\n",
       "Ação 2    0.203822\n",
       "dtype: float64"
      ]
     },
     "execution_count": 22,
     "metadata": {},
     "output_type": "execute_result"
    }
   ],
   "source": [
    "acoes[['Ação 1','Ação 2']].std()"
   ]
  },
  {
   "cell_type": "markdown",
   "id": "c293d136-d8b6-4ad5-acae-7c35acc15448",
   "metadata": {},
   "source": [
    "Erro Padrão"
   ]
  },
  {
   "cell_type": "code",
   "execution_count": 23,
   "id": "70167af4-49cf-473f-bac9-8a2fa7de3d71",
   "metadata": {
    "is_executing": true
   },
   "outputs": [
    {
     "data": {
      "text/plain": [
       "Ação 1    0.026944\n",
       "Ação 2    0.042500\n",
       "dtype: float64"
      ]
     },
     "execution_count": 23,
     "metadata": {},
     "output_type": "execute_result"
    }
   ],
   "source": [
    "acoes[['Ação 1','Ação 2']].sem()"
   ]
  },
  {
   "cell_type": "code",
   "execution_count": 24,
   "id": "dc118233-5734-4c95-89c8-32d3ef06939f",
   "metadata": {
    "is_executing": true
   },
   "outputs": [
    {
     "data": {
      "text/plain": [
       "Ação 1    0.026944\n",
       "Ação 2    0.042500\n",
       "dtype: float64"
      ]
     },
     "execution_count": 24,
     "metadata": {},
     "output_type": "execute_result"
    }
   ],
   "source": [
    "(acoes[['Ação 1','Ação 2']].std()/np.sqrt(len(acoes[['Ação 1','Ação 2']])))"
   ]
  },
  {
   "cell_type": "markdown",
   "id": "7bd0e703-e918-410e-85bb-2e033182d155",
   "metadata": {},
   "source": [
    "Coeficiente de Variação"
   ]
  },
  {
   "cell_type": "code",
   "execution_count": 25,
   "id": "7d843e00-9a47-4373-9e36-465047725e89",
   "metadata": {
    "is_executing": true
   },
   "outputs": [
    {
     "data": {
      "text/plain": [
       "Ação 1    367.06\n",
       "Ação 2    134.86\n",
       "dtype: float64"
      ]
     },
     "execution_count": 25,
     "metadata": {},
     "output_type": "execute_result"
    }
   ],
   "source": [
    "((acoes[['Ação 1','Ação 2']].std()/acoes[['Ação 1','Ação 2']].mean())*100).round(2)"
   ]
  },
  {
   "cell_type": "markdown",
   "id": "3885315d",
   "metadata": {},
   "source": [
    "####    3. Em certo jogo, probabilidade de vitória (sucesso) a cada nova jogada é 1/6. Se forem feitas 10 jogadas, quais são as seguintes probabilidades:"
   ]
  },
  {
   "cell_type": "markdown",
   "id": "d86250b1",
   "metadata": {},
   "source": [
    "#####    a. Ter vitória em 4 jogadas."
   ]
  },
  {
   "cell_type": "code",
   "execution_count": 26,
   "id": "b617912f-ac38-41c3-8518-1949330b7601",
   "metadata": {
    "is_executing": true
   },
   "outputs": [
    {
     "name": "stdout",
     "output_type": "stream",
     "text": [
      "Binomial no braço: 5.427%; Binomial scipy: 5.427%\n"
     ]
    }
   ],
   "source": [
    "def binomial(kk,nn,pp):\n",
    "    prob = (np.math.factorial(nn)/(np.math.factorial(kk)*np.math.factorial(nn-kk)))*(pp**kk)*(1-pp)**(nn-kk)\n",
    "    prob_scipy = binom.pmf(kk,nn,pp)\n",
    "    return prob, prob_scipy\n",
    "\n",
    "result = binomial(4,10,1/6)\n",
    "print(f'Binomial no braço: {result[0]:.3%}; Binomial scipy: {result[1]:.3%}')"
   ]
  },
  {
   "cell_type": "markdown",
   "id": "83b28da9",
   "metadata": {},
   "source": [
    "#####    b. Ter vitória em pelo menos 7 jogadas. (Necessário somar as probabilidades além do 7)"
   ]
  },
  {
   "cell_type": "code",
   "execution_count": 27,
   "id": "7c0addbd",
   "metadata": {
    "is_executing": true
   },
   "outputs": [
    {
     "name": "stdout",
     "output_type": "stream",
     "text": [
      "Binomial no braço: 0.0268%; Binomial scipy: 0.0268%\n"
     ]
    }
   ],
   "source": [
    "def binomial2(kk,nn,pp):\n",
    "    prob,prob_scipy = 0, 0\n",
    "    for i in range(0,4):\n",
    "        prob += (np.math.factorial(nn)/(np.math.factorial(kk+i)*np.math.factorial(nn-(kk+i))))*(pp**(kk+i))*(1-pp)**(nn-(kk+i))\n",
    "        prob_scipy += binom.pmf(kk+i,nn,pp)\n",
    "    return prob, prob_scipy\n",
    "result = binomial2(7,10,1/6)\n",
    "print(f'Binomial no braço: {result[0]:.4%}; Binomial scipy: {result[1]:.4%}')"
   ]
  },
  {
   "cell_type": "markdown",
   "id": "32f82844",
   "metadata": {},
   "source": [
    "####    4. (Fonte: Fávero e Belfiore, 2017, Cap. 5) Suponha que um aluno acerte três questões a cada cinco testes. Seja X o número de tentativas até o décimo segundo acerto. Determine a probabilidade de que o aluno precise fazer 20 questões para acertar 12."
   ]
  },
  {
   "cell_type": "code",
   "execution_count": 28,
   "id": "df380063",
   "metadata": {
    "is_executing": true
   },
   "outputs": [
    {
     "name": "stdout",
     "output_type": "stream",
     "text": [
      "Binomial negativa no braço: 10.782%; Binomial negativa scipy: 10.782%\n"
     ]
    }
   ],
   "source": [
    "# Binomial negativa (k,x,p) The scipy nbinom.pmf function should be read as:\n",
    "\n",
    "#scipy.stats.nbinom.pmf(num_failures, num_successes, prob_of_success)\n",
    "\n",
    "def negative_bin(k,x,p):\n",
    "    k1 = k-1\n",
    "    x1 = x-1\n",
    "    dif = (x-1)-(k-1)\n",
    "    prob = ((np.math.factorial(x1))/((np.math.factorial(k1))*(np.math.factorial(dif))))*(p**k)*((1-p)**(x-k))\n",
    "    prob_scipy = nbinom.pmf(x-k,k,p)\n",
    "    return prob,prob_scipy\n",
    "\n",
    "result = negative_bin(12,20,0.6)\n",
    "print(f'Binomial negativa no braço: {result[0]:.3%}; Binomial negativa scipy: {result[1]:.3%}')"
   ]
  },
  {
   "cell_type": "markdown",
   "id": "b60cbf93",
   "metadata": {},
   "source": [
    "####    5. (Fonte: Fávero e Belfiore, 2017, Cap. 5) Suponha que, em determinado hospital, 3 clientes são operados diariamente de cirurgia do estômago, seguindo uma distribuição Poisson. Calcule a probabilidade de que 28 clientes sejam operados na próxima semana (7 dias úteis)."
   ]
  },
  {
   "cell_type": "code",
   "execution_count": 29,
   "id": "327940da",
   "metadata": {
    "is_executing": true
   },
   "outputs": [
    {
     "name": "stdout",
     "output_type": "stream",
     "text": [
      "Poisson no braço: 16.803%; Poisson scipy: 16.803%\n"
     ]
    }
   ],
   "source": [
    "#k = 28\n",
    "#lamb = 3\n",
    "def poisson1(k,l):\n",
    "    prob = (np.exp(-l)*(l**k))/(np.math.factorial(k))\n",
    "    prob_scipy = poisson.pmf(k,l)\n",
    "    return prob, prob_scipy\n",
    "result = poisson1(4,3)\n",
    "print(f'Poisson no braço: {result[0]:.3%}; Poisson scipy: {result[1]:.3%}')"
   ]
  },
  {
   "cell_type": "markdown",
   "id": "1f249cb0",
   "metadata": {},
   "source": [
    "####    6. .Nos últimos meses, foram feitas medições do tempo decorrido entre o início e finalização de uma das etapas do processo de produção de certo produto. O tempo médio foi calculado em 26,5 minutos e o desvio padrão foi de 4,0 minutos. Sabendo que tal variável segue uma distribuição normal, identifique as seguintes informações:"
   ]
  },
  {
   "cell_type": "markdown",
   "id": "af3ead64",
   "metadata": {},
   "source": [
    "#####    a. P(X>37)"
   ]
  },
  {
   "cell_type": "code",
   "execution_count": 30,
   "id": "6cf62104",
   "metadata": {
    "is_executing": true
   },
   "outputs": [
    {
     "name": "stdout",
     "output_type": "stream",
     "text": [
      "Z: 2.625\n",
      "Normal scipy: 0.433%\n"
     ]
    }
   ],
   "source": [
    "x = 37\n",
    "mu = 26.5\n",
    "sigma = 4\n",
    "z_score = (x-mu)/sigma\n",
    "print('Z:', z_score)\n",
    "from scipy.stats import norm\n",
    "prob_scipy = 1 - norm.cdf(z_score)\n",
    "print(f'Normal scipy: {prob_scipy:.3%}')"
   ]
  },
  {
   "cell_type": "markdown",
   "id": "2fb2af7e",
   "metadata": {},
   "source": [
    "#####    b. P(X<20)"
   ]
  },
  {
   "cell_type": "code",
   "execution_count": 31,
   "id": "4532aa39",
   "metadata": {
    "is_executing": true
   },
   "outputs": [
    {
     "name": "stdout",
     "output_type": "stream",
     "text": [
      "Z: -1.625\n",
      "Normal scipy: 5.208%\n"
     ]
    }
   ],
   "source": [
    "x=20\n",
    "z_score = (x-mu)/sigma\n",
    "print('Z:', z_score)\n",
    "prob_scipy = norm.cdf(z_score)\n",
    "print(f'Normal scipy: {prob_scipy:.3%}')"
   ]
  },
  {
   "cell_type": "markdown",
   "id": "d8931647",
   "metadata": {},
   "source": [
    "#####    c. P(22<X<28)"
   ]
  },
  {
   "cell_type": "code",
   "execution_count": 32,
   "id": "83c67d03",
   "metadata": {
    "is_executing": true
   },
   "outputs": [
    {
     "name": "stdout",
     "output_type": "stream",
     "text": [
      "Z1: -1.125\n",
      "Z2: 0.375\n",
      "Normal1 scipy: 13.029% \n",
      "Normal2 scipy: 64.617%\n",
      "13.029% + 64.617% = 77.646%\n"
     ]
    }
   ],
   "source": [
    "x1, x2 = 22, 28\n",
    "z_score1, z_score2 = (x1-mu)/sigma, (x2-mu)/sigma\n",
    "print('Z1:', z_score1)\n",
    "print('Z2:', z_score2)\n",
    "prob_scipy1 = norm.cdf(z_score1)\n",
    "prob_scipy2 = norm.cdf(z_score2)\n",
    "print(f'Normal1 scipy: {prob_scipy1:.3%} \\nNormal2 scipy: {prob_scipy2:.3%}')\n",
    "print(f'{prob_scipy1:.3%} + {prob_scipy2:.3%} = {prob_scipy2+prob_scipy1:.3%}')"
   ]
  },
  {
   "cell_type": "markdown",
   "id": "d31f4afc",
   "metadata": {},
   "source": [
    "####    7. (Fonte: Fávero e Belfiore, 2017, Cap. 8) Um grupo de 60 leitores fez uma avaliação de três livros de romance e, ao final, escolheram uma das três opções. Teste a hipótese nula de que não há diferença na preferência dos leitores, ao nível de significância de 5%."
   ]
  },
  {
   "cell_type": "code",
   "execution_count": 33,
   "id": "648319f1",
   "metadata": {
    "is_executing": true
   },
   "outputs": [
    {
     "data": {
      "text/html": [
       "<div>\n",
       "<style scoped>\n",
       "    .dataframe tbody tr th:only-of-type {\n",
       "        vertical-align: middle;\n",
       "    }\n",
       "\n",
       "    .dataframe tbody tr th {\n",
       "        vertical-align: top;\n",
       "    }\n",
       "\n",
       "    .dataframe thead th {\n",
       "        text-align: right;\n",
       "    }\n",
       "</style>\n",
       "<table border=\"1\" class=\"dataframe\">\n",
       "  <thead>\n",
       "    <tr style=\"text-align: right;\">\n",
       "      <th></th>\n",
       "      <th>Freq_obs</th>\n",
       "      <th>Proporcao</th>\n",
       "      <th>freq_esp</th>\n",
       "    </tr>\n",
       "  </thead>\n",
       "  <tbody>\n",
       "    <tr>\n",
       "      <th>A</th>\n",
       "      <td>29</td>\n",
       "      <td>0.483</td>\n",
       "      <td>20</td>\n",
       "    </tr>\n",
       "    <tr>\n",
       "      <th>B</th>\n",
       "      <td>15</td>\n",
       "      <td>0.250</td>\n",
       "      <td>20</td>\n",
       "    </tr>\n",
       "    <tr>\n",
       "      <th>C</th>\n",
       "      <td>16</td>\n",
       "      <td>0.267</td>\n",
       "      <td>20</td>\n",
       "    </tr>\n",
       "    <tr>\n",
       "      <th>Total</th>\n",
       "      <td>60</td>\n",
       "      <td>1.000</td>\n",
       "      <td>60</td>\n",
       "    </tr>\n",
       "  </tbody>\n",
       "</table>\n",
       "</div>"
      ],
      "text/plain": [
       "       Freq_obs  Proporcao  freq_esp\n",
       "A            29      0.483        20\n",
       "B            15      0.250        20\n",
       "C            16      0.267        20\n",
       "Total        60      1.000        60"
      ]
     },
     "execution_count": 33,
     "metadata": {},
     "output_type": "execute_result"
    }
   ],
   "source": [
    "livros = pd.DataFrame([[29,0.483,20],[15,0.25,20],[16,0.267,20],[60,1.0,60]],index=['A','B','C','Total'],columns=['Freq_obs','Proporcao','freq_esp'])\n",
    "livros"
   ]
  },
  {
   "cell_type": "code",
   "execution_count": 34,
   "id": "778da96b",
   "metadata": {
    "is_executing": true
   },
   "outputs": [
    {
     "data": {
      "text/html": [
       "<div>\n",
       "<style scoped>\n",
       "    .dataframe tbody tr th:only-of-type {\n",
       "        vertical-align: middle;\n",
       "    }\n",
       "\n",
       "    .dataframe tbody tr th {\n",
       "        vertical-align: top;\n",
       "    }\n",
       "\n",
       "    .dataframe thead th {\n",
       "        text-align: right;\n",
       "    }\n",
       "</style>\n",
       "<table border=\"1\" class=\"dataframe\">\n",
       "  <thead>\n",
       "    <tr style=\"text-align: right;\">\n",
       "      <th></th>\n",
       "      <th>Freq_obs</th>\n",
       "      <th>Proporcao</th>\n",
       "      <th>freq_esp</th>\n",
       "      <th>residuos</th>\n",
       "    </tr>\n",
       "  </thead>\n",
       "  <tbody>\n",
       "    <tr>\n",
       "      <th>A</th>\n",
       "      <td>29</td>\n",
       "      <td>0.483</td>\n",
       "      <td>20</td>\n",
       "      <td>9</td>\n",
       "    </tr>\n",
       "    <tr>\n",
       "      <th>B</th>\n",
       "      <td>15</td>\n",
       "      <td>0.250</td>\n",
       "      <td>20</td>\n",
       "      <td>-5</td>\n",
       "    </tr>\n",
       "    <tr>\n",
       "      <th>C</th>\n",
       "      <td>16</td>\n",
       "      <td>0.267</td>\n",
       "      <td>20</td>\n",
       "      <td>-4</td>\n",
       "    </tr>\n",
       "    <tr>\n",
       "      <th>Total</th>\n",
       "      <td>60</td>\n",
       "      <td>1.000</td>\n",
       "      <td>60</td>\n",
       "      <td>0</td>\n",
       "    </tr>\n",
       "  </tbody>\n",
       "</table>\n",
       "</div>"
      ],
      "text/plain": [
       "       Freq_obs  Proporcao  freq_esp  residuos\n",
       "A            29      0.483        20         9\n",
       "B            15      0.250        20        -5\n",
       "C            16      0.267        20        -4\n",
       "Total        60      1.000        60         0"
      ]
     },
     "execution_count": 34,
     "metadata": {},
     "output_type": "execute_result"
    }
   ],
   "source": [
    "livros['residuos'] = livros.Freq_obs - livros.freq_esp\n",
    "livros"
   ]
  },
  {
   "cell_type": "code",
   "execution_count": 35,
   "id": "e2120d2b",
   "metadata": {
    "is_executing": true
   },
   "outputs": [
    {
     "data": {
      "text/html": [
       "<div>\n",
       "<style scoped>\n",
       "    .dataframe tbody tr th:only-of-type {\n",
       "        vertical-align: middle;\n",
       "    }\n",
       "\n",
       "    .dataframe tbody tr th {\n",
       "        vertical-align: top;\n",
       "    }\n",
       "\n",
       "    .dataframe thead th {\n",
       "        text-align: right;\n",
       "    }\n",
       "</style>\n",
       "<table border=\"1\" class=\"dataframe\">\n",
       "  <thead>\n",
       "    <tr style=\"text-align: right;\">\n",
       "      <th></th>\n",
       "      <th>Freq_obs</th>\n",
       "      <th>Proporcao</th>\n",
       "      <th>freq_esp</th>\n",
       "      <th>residuos</th>\n",
       "      <th>x2</th>\n",
       "    </tr>\n",
       "  </thead>\n",
       "  <tbody>\n",
       "    <tr>\n",
       "      <th>A</th>\n",
       "      <td>29</td>\n",
       "      <td>0.483</td>\n",
       "      <td>20</td>\n",
       "      <td>9</td>\n",
       "      <td>4.05</td>\n",
       "    </tr>\n",
       "    <tr>\n",
       "      <th>B</th>\n",
       "      <td>15</td>\n",
       "      <td>0.250</td>\n",
       "      <td>20</td>\n",
       "      <td>-5</td>\n",
       "      <td>1.25</td>\n",
       "    </tr>\n",
       "    <tr>\n",
       "      <th>C</th>\n",
       "      <td>16</td>\n",
       "      <td>0.267</td>\n",
       "      <td>20</td>\n",
       "      <td>-4</td>\n",
       "      <td>0.80</td>\n",
       "    </tr>\n",
       "    <tr>\n",
       "      <th>Total</th>\n",
       "      <td>60</td>\n",
       "      <td>1.000</td>\n",
       "      <td>60</td>\n",
       "      <td>0</td>\n",
       "      <td>6.10</td>\n",
       "    </tr>\n",
       "  </tbody>\n",
       "</table>\n",
       "</div>"
      ],
      "text/plain": [
       "       Freq_obs  Proporcao  freq_esp  residuos    x2\n",
       "A            29      0.483        20         9  4.05\n",
       "B            15      0.250        20        -5  1.25\n",
       "C            16      0.267        20        -4  0.80\n",
       "Total        60      1.000        60         0  6.10"
      ]
     },
     "execution_count": 35,
     "metadata": {},
     "output_type": "execute_result"
    }
   ],
   "source": [
    "livros['x2'] = (livros.residuos**2)/livros.freq_esp\n",
    "livros.at['Total','x2'] = livros['x2'].sum()\n",
    "livros"
   ]
  },
  {
   "cell_type": "code",
   "execution_count": 36,
   "id": "84932ad4",
   "metadata": {
    "is_executing": true
   },
   "outputs": [
    {
     "name": "stdout",
     "output_type": "stream",
     "text": [
      "The Chi-Square critical value is 5.991\n"
     ]
    }
   ],
   "source": [
    "nivel_sig = 0.05\n",
    "deg_freedom = 2\n",
    "crit_value = chi2.ppf(1-nivel_sig,deg_freedom)\n",
    "val_x2 = livros.at['Total','x2']\n",
    "#chi2.ppf(1-nivel_sig,deg_freedom)\n",
    "print(f'The Chi-Square critical value is {crit_value:.3f}')\n"
   ]
  },
  {
   "cell_type": "markdown",
   "id": "445da772",
   "metadata": {},
   "source": [
    "$H_{0}$ : Não há diferença na preferência dos leitores <br>\n",
    "\n",
    "$H_{1}$: Há diferença na preferência dos leitores"
   ]
  },
  {
   "cell_type": "markdown",
   "id": "245a93bf",
   "metadata": {},
   "source": [
    "Precisamos comparar os valores de $\\chi^{2}_{T}$ (total) e $\\chi^{2}_{C} (crítico)$."
   ]
  },
  {
   "cell_type": "code",
   "execution_count": 37,
   "id": "6d28a912",
   "metadata": {
    "is_executing": true
   },
   "outputs": [
    {
     "name": "stdout",
     "output_type": "stream",
     "text": [
      "Rejeita-se H0: Há diferença na preferência dos leitores.\n"
     ]
    }
   ],
   "source": [
    "if (val_x2 > crit_value):\n",
    "    print(r'Rejeita-se H0: Há diferença na preferência dos leitores.')\n",
    "else:\n",
    "    print(r'Aceita-se H0: Não há diferença na preferência dos leitores.')"
   ]
  },
  {
   "cell_type": "code",
   "execution_count": 38,
   "id": "be708541",
   "metadata": {
    "is_executing": true
   },
   "outputs": [],
   "source": [
    "p_value = chisquare(livros['Freq_obs'],livros['freq_esp'],1)[1]"
   ]
  },
  {
   "cell_type": "markdown",
   "id": "be36eba3",
   "metadata": {},
   "source": [
    "If p-value < $ \\alpha $ rejeita-se $ H_{0} $ <br>\n",
    "\n",
    "If p-value > $ \\alpha $ não rejeita-se $ H_{0} $"
   ]
  },
  {
   "cell_type": "code",
   "execution_count": 39,
   "id": "f8ff42f8",
   "metadata": {
    "is_executing": true
   },
   "outputs": [
    {
     "name": "stdout",
     "output_type": "stream",
     "text": [
      "Rejeita-se H0: Há diferença na preferência dos leitores.\n"
     ]
    }
   ],
   "source": [
    "if (p_value < nivel_sig):\n",
    "    print(r'Rejeita-se H0: Há diferença na preferência dos leitores.')\n",
    "else:\n",
    "    print(r'Aceita-se H0: Não há diferença na preferência dos leitores.')"
   ]
  },
  {
   "cell_type": "markdown",
   "id": "708e7d34",
   "metadata": {},
   "source": [
    "####   8. Foram coletados dados sobre a quantidade de chuva por dia (em milímetros), durante 14 dias, para dois locais distintos. O pesquisador notou que o local A aparenta ter maior variabilidade na quantidade chuva, comparativamente ao local B. Neste sentido, deseja testar a hipótese de que a variabilidade na quantidade de chuva é significativamente maior em A do que em B. Realize o teste F para testar tal hipótese."
   ]
  },
  {
   "cell_type": "code",
   "execution_count": 40,
   "id": "15cb3c81",
   "metadata": {
    "is_executing": true
   },
   "outputs": [
    {
     "data": {
      "text/html": [
       "<div>\n",
       "<style scoped>\n",
       "    .dataframe tbody tr th:only-of-type {\n",
       "        vertical-align: middle;\n",
       "    }\n",
       "\n",
       "    .dataframe tbody tr th {\n",
       "        vertical-align: top;\n",
       "    }\n",
       "\n",
       "    .dataframe thead th {\n",
       "        text-align: right;\n",
       "    }\n",
       "</style>\n",
       "<table border=\"1\" class=\"dataframe\">\n",
       "  <thead>\n",
       "    <tr style=\"text-align: right;\">\n",
       "      <th></th>\n",
       "      <th>A(mm)</th>\n",
       "      <th>B(mm)</th>\n",
       "    </tr>\n",
       "  </thead>\n",
       "  <tbody>\n",
       "    <tr>\n",
       "      <th>0</th>\n",
       "      <td>8.9</td>\n",
       "      <td>5.6</td>\n",
       "    </tr>\n",
       "    <tr>\n",
       "      <th>1</th>\n",
       "      <td>7.7</td>\n",
       "      <td>4.9</td>\n",
       "    </tr>\n",
       "    <tr>\n",
       "      <th>2</th>\n",
       "      <td>8.6</td>\n",
       "      <td>6.6</td>\n",
       "    </tr>\n",
       "  </tbody>\n",
       "</table>\n",
       "</div>"
      ],
      "text/plain": [
       "   A(mm)  B(mm)\n",
       "0    8.9    5.6\n",
       "1    7.7    4.9\n",
       "2    8.6    6.6"
      ]
     },
     "execution_count": 40,
     "metadata": {},
     "output_type": "execute_result"
    }
   ],
   "source": [
    "A = [8.90,7.70,8.60,3.90,7.60,10.20,9.60,8.90,9.60,5.50,0.50,1.50,1.50,4.00]\n",
    "B = [5.6,4.9,6.6,5.9,6.5,5.9,3.6,5.6,8.8,7.8,9.9,11.0,8.3,5.5]\n",
    "data = pd.DataFrame()\n",
    "data['A(mm)'],data['B(mm)'] = A,B\n",
    "data.head(3)"
   ]
  },
  {
   "cell_type": "code",
   "execution_count": 41,
   "id": "d204dde7",
   "metadata": {
    "is_executing": true
   },
   "outputs": [
    {
     "data": {
      "text/plain": [
       "11.604395604395604"
      ]
     },
     "metadata": {},
     "output_type": "display_data"
    },
    {
     "data": {
      "text/plain": [
       "4.202692307692308"
      ]
     },
     "metadata": {},
     "output_type": "display_data"
    }
   ],
   "source": [
    "var_a = data.var()[0]\n",
    "var_b = data.var()[1]\n",
    "display(var_a,var_b)"
   ]
  },
  {
   "cell_type": "code",
   "execution_count": 42,
   "id": "1914bf24",
   "metadata": {
    "is_executing": true
   },
   "outputs": [
    {
     "name": "stdout",
     "output_type": "stream",
     "text": [
      "O parâmetro resultante do teste F = 2.7612\n"
     ]
    }
   ],
   "source": [
    "# Teste F Variâncias\n",
    "nivel_sig = 0.05\n",
    "ftest = var_a/var_b\n",
    "print(f'O parâmetro resultante do teste F = {ftest:.4f}')"
   ]
  },
  {
   "cell_type": "code",
   "execution_count": 43,
   "id": "12adeea1",
   "metadata": {
    "is_executing": true
   },
   "outputs": [
    {
     "name": "stdout",
     "output_type": "stream",
     "text": [
      "O valor crítico F_c = 2.5769\n"
     ]
    }
   ],
   "source": [
    "val_crit = f.ppf(1-nivel_sig,13,13) #(nivel de confiança, graus de liberdade no numerador, graus de liberdade no denominador)\n",
    "print(f'O valor crítico F_c = {val_crit:.4f}')"
   ]
  },
  {
   "cell_type": "code",
   "execution_count": 44,
   "id": "6bc8c6e5",
   "metadata": {
    "is_executing": true
   },
   "outputs": [
    {
     "data": {
      "text/plain": [
       "0.03917205449902483"
      ]
     },
     "execution_count": 44,
     "metadata": {},
     "output_type": "execute_result"
    }
   ],
   "source": [
    "p_value = 1-f.cdf(ftest,13,13)\n",
    "p_value"
   ]
  },
  {
   "cell_type": "markdown",
   "id": "5c80111f",
   "metadata": {},
   "source": [
    "Vamos verificar tanto pelo p-value e pelo valor de $ F $ e $ F_{C} $ (crítico)."
   ]
  },
  {
   "cell_type": "code",
   "execution_count": 45,
   "id": "1ac33ce6",
   "metadata": {
    "is_executing": true
   },
   "outputs": [
    {
     "name": "stdout",
     "output_type": "stream",
     "text": [
      "Rejeita-se H0: As variâncias das duas amostras são diferentes.\n"
     ]
    }
   ],
   "source": [
    "if (p_value < nivel_sig or ftest > val_crit):\n",
    "    print(f'Rejeita-se H0: As variâncias das duas amostras são diferentes.')\n",
    "else:\n",
    "    print(f'Aceita-se H0: As variâncias das duas amostras são iguais.')"
   ]
  },
  {
   "cell_type": "markdown",
   "id": "54f62f78",
   "metadata": {},
   "source": [
    "#### 9. (Fonte: Fávero e Belfiore, 2017, Cap. 7) Deseja-se comparar o tempo médio de espera para atendimento (min) em 2 hospitais. Para isso, coletou-se uma amostra com 20 pacientes em cada hospital. Verifique se há diferenças entre os tempos médios de espera nos dois hospitais. Considere α = 1%. Adicionalmente, calcule os intervalos de confiança para o tempo médio de espera nos dois hospitais."
   ]
  },
  {
   "cell_type": "code",
   "execution_count": 46,
   "id": "70c0661f",
   "metadata": {
    "is_executing": true
   },
   "outputs": [],
   "source": [
    "hosp1 = [72,58,91,88,70,76,98,101,65,73,79,82,80,91,93,88,97,83,71,74]\n",
    "hosp2 = [66,40,55,70,76,61,53,50,47,61,52,48,60,72,57,70,66,55,46,51]\n",
    "data = pd.DataFrame()\n",
    "data['Hospital 1'] = hosp1\n",
    "data['Hospital 2'] = hosp2"
   ]
  },
  {
   "cell_type": "markdown",
   "id": "d0be0d9b",
   "metadata": {},
   "source": [
    "Antes de realizarmos o **teste t**, vamos fazer o **teste F** para comparar as variâncias $ S^{2}_{maior} $ e $ S^{2}_{menor} $"
   ]
  },
  {
   "cell_type": "markdown",
   "id": "d62ae9fe",
   "metadata": {},
   "source": [
    "$ F = \\frac{S^{2}_{maior}}{S^{2}_{menor}}$"
   ]
  },
  {
   "cell_type": "code",
   "execution_count": 47,
   "id": "f9633671",
   "metadata": {
    "is_executing": true
   },
   "outputs": [
    {
     "name": "stdout",
     "output_type": "stream",
     "text": [
      "Para o Hospital 1, var1 = 137.7368\n",
      "Para o Hospital 2, var2 = 96.8000\n"
     ]
    }
   ],
   "source": [
    "var1 = data.var()[0]\n",
    "var2 = data.var()[1]\n",
    "print(f'Para o Hospital 1, var1 = {var1:.4f}')\n",
    "print(f'Para o Hospital 2, var2 = {var2:.4f}')\n"
   ]
  },
  {
   "cell_type": "code",
   "execution_count": 48,
   "id": "542978c4",
   "metadata": {
    "is_executing": true
   },
   "outputs": [
    {
     "name": "stdout",
     "output_type": "stream",
     "text": [
      "O parâmetro resultante do teste, F = 1.4229\n"
     ]
    }
   ],
   "source": [
    "if var1 > var2:\n",
    "    ftest = var1/var2\n",
    "else:\n",
    "    ftest = var2/var1\n",
    "print(f'O parâmetro resultante do teste, F = {ftest:.4f}')"
   ]
  },
  {
   "cell_type": "code",
   "execution_count": 49,
   "id": "60ba39b9",
   "metadata": {
    "is_executing": true
   },
   "outputs": [
    {
     "name": "stdout",
     "output_type": "stream",
     "text": [
      "O valor crítico F_c = 3.0274\n"
     ]
    }
   ],
   "source": [
    "nivel_sig = 0.01\n",
    "val_crit = f.ppf(1-nivel_sig,len(data['Hospital 1']) - 1,len(data['Hospital 2']) - 1) #(nivel de confiança, graus de liberdade no numerador, graus de liberdade no denominador)\n",
    "print(f'O valor crítico F_c = {val_crit:.4f}')"
   ]
  },
  {
   "cell_type": "code",
   "execution_count": 50,
   "id": "afa87718",
   "metadata": {
    "is_executing": true
   },
   "outputs": [
    {
     "data": {
      "text/plain": [
       "0.22460949688391607"
      ]
     },
     "execution_count": 50,
     "metadata": {},
     "output_type": "execute_result"
    }
   ],
   "source": [
    "p_value = 1-f.cdf(ftest,len(data['Hospital 1']) - 1,len(data['Hospital 2']) - 1)\n",
    "p_value"
   ]
  },
  {
   "cell_type": "code",
   "execution_count": 51,
   "id": "f14d2b9b",
   "metadata": {
    "is_executing": true
   },
   "outputs": [
    {
     "name": "stdout",
     "output_type": "stream",
     "text": [
      "Aceita-se H0: As variâncias das duas amostras são iguais.\n"
     ]
    }
   ],
   "source": [
    "if (p_value < nivel_sig or ftest > val_crit):\n",
    "    print(f'Rejeita-se H0: As variâncias das duas amostras são diferentes.')\n",
    "else:\n",
    "    print(f'Aceita-se H0: As variâncias das duas amostras são iguais.')"
   ]
  },
  {
   "cell_type": "markdown",
   "id": "67d70b55",
   "metadata": {},
   "source": [
    "Como **pelo teste F** as **variâncias são iguais**, usaremos a seguinte equação para o teste t: <br>\n",
    "\n",
    "###### $$ T = \\frac{\\bar{X_{1}} - \\bar{X_{2}}}{S_{p}\\cdot \\sqrt{\\frac{1}{n_{1}}+\\frac{1}{n_{2}}}} $$ <br><br><br>         $$ S_{p} = \\sqrt{\\frac{(n_{1}-1)S^{2}_{1} + (n_{2}-1)S^{2}_{2}}{n_{1}+n_{2}-2}} $$ <br><br><br>     Graus de Liberdade $= n_{1}+n_{2}-2$"
   ]
  },
  {
   "cell_type": "code",
   "execution_count": 52,
   "id": "fdda91b8",
   "metadata": {
    "is_executing": true
   },
   "outputs": [
    {
     "name": "stdout",
     "output_type": "stream",
     "text": [
      "Graus de liberdade = 38\n"
     ]
    },
    {
     "data": {
      "text/plain": [
       "10.829054485624845"
      ]
     },
     "metadata": {},
     "output_type": "display_data"
    },
    {
     "name": "stdout",
     "output_type": "stream",
     "text": [
      "O valor do teste T = 6.9208\n"
     ]
    }
   ],
   "source": [
    "# no braço o valor de T\n",
    "n1 = len(data['Hospital 1'])\n",
    "n2 = len(data['Hospital 2'])\n",
    "print(f'Graus de liberdade = {n1+n2-2}')\n",
    "\n",
    "sp = np.sqrt(((n1-1)*var1 + (n2-1)*var2)/(n1+n2-2))\n",
    "display(sp)\n",
    "T = (data['Hospital 1'].mean() - data['Hospital 2'].mean())/(sp*np.sqrt((1/n1)+(1/n2)))\n",
    "print(f'O valor do teste T = {T:.4f}')"
   ]
  },
  {
   "cell_type": "code",
   "execution_count": 53,
   "id": "04244332",
   "metadata": {
    "is_executing": true
   },
   "outputs": [
    {
     "name": "stdout",
     "output_type": "stream",
     "text": [
      "O valor crítico t_c = 2.7116\n"
     ]
    }
   ],
   "source": [
    "nivel_sig = 0.01\n",
    "val_crit = t.ppf(1-nivel_sig/2,n1+n2-2) #(nivel de confiança, graus de liberdade)\n",
    "print(f'O valor crítico t_c = {val_crit:.4f}')"
   ]
  },
  {
   "cell_type": "code",
   "execution_count": 54,
   "id": "0aad702a",
   "metadata": {
    "is_executing": true
   },
   "outputs": [
    {
     "data": {
      "text/plain": [
       "6.920824033665959"
      ]
     },
     "metadata": {},
     "output_type": "display_data"
    },
    {
     "data": {
      "text/plain": [
       "3.147827649441996e-08"
      ]
     },
     "metadata": {},
     "output_type": "display_data"
    },
    {
     "name": "stdout",
     "output_type": "stream",
     "text": [
      "Rejeita-se H0: Há diferença no tempo de espera dos hospitais.\n"
     ]
    }
   ],
   "source": [
    "from scipy.stats import ttest_ind\n",
    "t_stat,p_value = ttest_ind(data['Hospital 1'],data['Hospital 2'])\n",
    "display(t_stat)\n",
    "display(p_value)\n",
    "if p_value <= nivel_sig:\n",
    "    print('Rejeita-se H0: Há diferença no tempo de espera dos hospitais.')\n",
    "else:\n",
    "    print('Aceita-se H0: Não há diferença no tempo de espera dos hospitais.')"
   ]
  },
  {
   "cell_type": "markdown",
   "id": "a3e30df4",
   "metadata": {},
   "source": [
    "Agora o **intervalo de confiança**:"
   ]
  },
  {
   "cell_type": "code",
   "execution_count": 55,
   "id": "093661b2",
   "metadata": {
    "is_executing": true
   },
   "outputs": [
    {
     "name": "stdout",
     "output_type": "stream",
     "text": [
      "O intervalo de confiança para o Hospital 1 é (73.99210839145069, 89.00789160854931)\n",
      "O intervalo de confiança para o Hospital 2 é (51.50594386581019, 64.09405613418981)\n"
     ]
    }
   ],
   "source": [
    "import scipy.stats as st\n",
    "\n",
    "#ic1 = t.interval(alpha=0.99,df=n1-1,loc=data.mean()[0],scale=data.sem()[0])\n",
    "print(f'O intervalo de confiança para o Hospital 1 é {t.interval(alpha=0.99,df=n1-1,loc=data.mean()[0],scale=data.sem()[0])}')\n",
    "print(f'O intervalo de confiança para o Hospital 2 é {t.interval(alpha=0.99,df=n2-1,loc=data.mean()[1],scale=data.sem()[1])}')"
   ]
  },
  {
   "cell_type": "markdown",
   "id": "d20aa32f",
   "metadata": {},
   "source": [
    "#### 10. (Fonte: Fávero e Belfiore, 2017, Cap. 7) Um fabricante de iogurtes desnatados afirma que a quantidade de calorias em cada pote é 60 cal. Para verificar se essa informação procede, uma amostra aleatória com 36 potes é coletada, observando-se que a quantidade média de calorias é de 65 cal com desvio-padrão 3,5. Aplique o teste adequado e verifique se a afirmação do fabricante é verdadeira, considerando o nível de significância de 5%."
   ]
  },
  {
   "cell_type": "code",
   "execution_count": 56,
   "id": "d201590f",
   "metadata": {
    "is_executing": true
   },
   "outputs": [
    {
     "data": {
      "text/plain": [
       "8.571428571428571"
      ]
     },
     "execution_count": 56,
     "metadata": {},
     "output_type": "execute_result"
    }
   ],
   "source": [
    "n=36\n",
    "nivel_sig = 0.05\n",
    "x_med = 65\n",
    "x_0 = 60\n",
    "s = 3.5\n",
    "T = (x_med - x_0)/(s/np.sqrt(n))\n",
    "T"
   ]
  },
  {
   "cell_type": "code",
   "execution_count": 57,
   "id": "b23bf0ec",
   "metadata": {
    "is_executing": true
   },
   "outputs": [
    {
     "name": "stdout",
     "output_type": "stream",
     "text": [
      "O valor crítico t_c = 2.0301\n"
     ]
    }
   ],
   "source": [
    "val_crit = t.ppf(1-nivel_sig/2,n-1) #(nivel de confiança, graus de liberdade) bicaudal\n",
    "print(f'O valor crítico t_c = {val_crit:.4f}')"
   ]
  },
  {
   "cell_type": "code",
   "execution_count": 58,
   "id": "c2390fd0",
   "metadata": {
    "is_executing": true
   },
   "outputs": [
    {
     "name": "stdout",
     "output_type": "stream",
     "text": [
      "Rejeita-se H0: A quantidade de calorias não é igual a 60.\n"
     ]
    }
   ],
   "source": [
    "p_value = (1-t.cdf(T,n-1))*2\n",
    "if p_value <= nivel_sig:\n",
    "    print('Rejeita-se H0: A quantidade de calorias não é igual a 60.')\n",
    "else:\n",
    "    print('Aceita-se H0: A quantidade de calorias é igual a 60.')\n"
   ]
  },
  {
   "cell_type": "markdown",
   "id": "a4bf1660",
   "metadata": {},
   "source": [
    "#### 11. Em uma indústria alimentícia, para a preparação de certo produto, a quantidade padrão de sal são 8g com desvio padrão igual a 1g. Na análise de uma amostra de 85 produtos, foi observada uma quantidade média de sal de 8,25g. Avalie se a quantidade observada na amostra pode ser considerada estatisticamente maior, ao nível de significância de 5%."
   ]
  },
  {
   "cell_type": "code",
   "execution_count": 59,
   "id": "af7ea7f1",
   "metadata": {
    "is_executing": true
   },
   "outputs": [
    {
     "data": {
      "text/plain": [
       "2.3048861143232218"
      ]
     },
     "execution_count": 59,
     "metadata": {},
     "output_type": "execute_result"
    }
   ],
   "source": [
    "x0 = 8\n",
    "xmed = 8.25\n",
    "despop = 1\n",
    "n = 85\n",
    "nivel_sig = 0.05\n",
    "z = (xmed - x0)/(despop/np.sqrt(n))\n",
    "z"
   ]
  },
  {
   "cell_type": "code",
   "execution_count": 60,
   "id": "dd7e8f39",
   "metadata": {
    "is_executing": true
   },
   "outputs": [
    {
     "name": "stdout",
     "output_type": "stream",
     "text": [
      "O valor crítico F_c = 1.6449\n"
     ]
    }
   ],
   "source": [
    "val_crit = norm.ppf(1-nivel_sig) #(nivel de confiança, graus de liberdade no numerador, graus de liberdade no denominador)\n",
    "print(f'O valor crítico F_c = {val_crit:.4f}')"
   ]
  },
  {
   "cell_type": "code",
   "execution_count": 61,
   "id": "f0ef1413",
   "metadata": {
    "is_executing": true
   },
   "outputs": [
    {
     "data": {
      "text/plain": [
       "0.01058647624307385"
      ]
     },
     "execution_count": 61,
     "metadata": {},
     "output_type": "execute_result"
    }
   ],
   "source": [
    "p_value = 1-norm.cdf(z)\n",
    "p_value"
   ]
  },
  {
   "cell_type": "code",
   "execution_count": 62,
   "id": "1aca4d83",
   "metadata": {
    "is_executing": true
   },
   "outputs": [
    {
     "name": "stdout",
     "output_type": "stream",
     "text": [
      "Rejeita-se H0: As quantidades são diferentes.\n"
     ]
    }
   ],
   "source": [
    "if p_value <= nivel_sig:\n",
    "    print('Rejeita-se H0: As quantidades são diferentes.')\n",
    "else:\n",
    "    print('Aceita-se H0: As quantidades são iguais.')"
   ]
  },
  {
   "cell_type": "markdown",
   "id": "5dfe8c1f",
   "metadata": {},
   "source": [
    "#### 12. Em uma amostra de 425 medições, observou-se que o peso médio dos produtos que foram medidos é 226g, com desvio padrão de 10g. Estabeleça o intervalo de confiança para esta média, sabendo que o desvio padrão observado é exatamente seu valor histórico. Considere um nível de confiança de 95%."
   ]
  },
  {
   "cell_type": "code",
   "execution_count": 63,
   "id": "13ce0124",
   "metadata": {
    "is_executing": true
   },
   "outputs": [
    {
     "data": {
      "text/plain": [
       "(225.04927781992174, 226.95072218007826)"
      ]
     },
     "execution_count": 63,
     "metadata": {},
     "output_type": "execute_result"
    }
   ],
   "source": [
    "n=425\n",
    "xmed = 226\n",
    "s = 10\n",
    "nivel_sig=0.05\n",
    "norm.interval(1-nivel_sig,loc=xmed,scale=(s/np.sqrt(n)))"
   ]
  }
 ],
 "metadata": {
  "kernelspec": {
   "display_name": "Python 3 (ipykernel)",
   "language": "python",
   "name": "python3"
  },
  "language_info": {
   "codemirror_mode": {
    "name": "ipython",
    "version": 3
   },
   "file_extension": ".py",
   "mimetype": "text/x-python",
   "name": "python",
   "nbconvert_exporter": "python",
   "pygments_lexer": "ipython3",
   "version": "3.8.18"
  }
 },
 "nbformat": 4,
 "nbformat_minor": 5
}
